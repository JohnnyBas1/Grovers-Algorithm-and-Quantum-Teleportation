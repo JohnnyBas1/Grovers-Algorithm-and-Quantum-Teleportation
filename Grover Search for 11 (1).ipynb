{
 "cells": [
  {
   "cell_type": "code",
   "execution_count": 1,
   "metadata": {},
   "outputs": [],
   "source": [
    "from qiskit import *"
   ]
  },
  {
   "cell_type": "code",
   "execution_count": 2,
   "metadata": {},
   "outputs": [
    {
     "data": {
      "text/html": [
       "<pre style=\"word-wrap: normal;white-space: pre;background: #fff0;line-height: 1.1;font-family: &quot;Courier New&quot;,Courier,monospace\">     \n",
       "q_0: \n",
       "     \n",
       "q_1: \n",
       "     \n",
       "q_2: \n",
       "     </pre>"
      ],
      "text/plain": [
       "     \n",
       "q_0: \n",
       "     \n",
       "q_1: \n",
       "     \n",
       "q_2: \n",
       "     "
      ]
     },
     "execution_count": 2,
     "metadata": {},
     "output_type": "execute_result"
    }
   ],
   "source": [
    "black_box = QuantumCircuit(3,name = \"Black Box\")\n",
    "black_box.draw()"
   ]
  },
  {
   "cell_type": "code",
   "execution_count": 3,
   "metadata": {},
   "outputs": [
    {
     "data": {
      "text/plain": [
       "<qiskit.circuit.instructionset.InstructionSet at 0x23bc66d0880>"
      ]
     },
     "execution_count": 3,
     "metadata": {},
     "output_type": "execute_result"
    }
   ],
   "source": [
    "black_box.cx(0,1)"
   ]
  },
  {
   "cell_type": "code",
   "execution_count": 4,
   "metadata": {},
   "outputs": [
    {
     "data": {
      "text/plain": [
       "<qiskit.circuit.instructionset.InstructionSet at 0x23bc66d0ee0>"
      ]
     },
     "execution_count": 4,
     "metadata": {},
     "output_type": "execute_result"
    }
   ],
   "source": [
    "black_box.cx(1,2)"
   ]
  },
  {
   "cell_type": "code",
   "execution_count": 5,
   "metadata": {},
   "outputs": [
    {
     "data": {
      "text/html": [
       "<pre style=\"word-wrap: normal;white-space: pre;background: #fff0;line-height: 1.1;font-family: &quot;Courier New&quot;,Courier,monospace\">               \n",
       "q_0: ──■───────\n",
       "     ┌─┴─┐     \n",
       "q_1: ┤ X ├──■──\n",
       "     └───┘┌─┴─┐\n",
       "q_2: ─────┤ X ├\n",
       "          └───┘</pre>"
      ],
      "text/plain": [
       "               \n",
       "q_0: ──■───────\n",
       "     ┌─┴─┐     \n",
       "q_1: ┤ X ├──■──\n",
       "     └───┘┌─┴─┐\n",
       "q_2: ─────┤ X ├\n",
       "          └───┘"
      ]
     },
     "execution_count": 5,
     "metadata": {},
     "output_type": "execute_result"
    }
   ],
   "source": [
    "black_box.draw()"
   ]
  },
  {
   "cell_type": "code",
   "execution_count": 6,
   "metadata": {},
   "outputs": [
    {
     "data": {
      "text/plain": [
       "<qiskit.circuit.instructionset.InstructionSet at 0x23bc35a1ee0>"
      ]
     },
     "execution_count": 6,
     "metadata": {},
     "output_type": "execute_result"
    }
   ],
   "source": [
    "black_box.cz(0,1)"
   ]
  },
  {
   "cell_type": "code",
   "execution_count": 7,
   "metadata": {},
   "outputs": [
    {
     "data": {
      "text/html": [
       "<pre style=\"word-wrap: normal;white-space: pre;background: #fff0;line-height: 1.1;font-family: &quot;Courier New&quot;,Courier,monospace\">                  \n",
       "q_0: ──■────────■─\n",
       "     ┌─┴─┐      │ \n",
       "q_1: ┤ X ├──■───■─\n",
       "     └───┘┌─┴─┐   \n",
       "q_2: ─────┤ X ├───\n",
       "          └───┘   </pre>"
      ],
      "text/plain": [
       "                  \n",
       "q_0: ──■────────■─\n",
       "     ┌─┴─┐      │ \n",
       "q_1: ┤ X ├──■───■─\n",
       "     └───┘┌─┴─┐   \n",
       "q_2: ─────┤ X ├───\n",
       "          └───┘   "
      ]
     },
     "execution_count": 7,
     "metadata": {},
     "output_type": "execute_result"
    }
   ],
   "source": [
    "black_box.draw()"
   ]
  },
  {
   "cell_type": "code",
   "execution_count": 8,
   "metadata": {},
   "outputs": [
    {
     "data": {
      "text/plain": [
       "<qiskit.circuit.gate.Gate at 0x23bc66d0be0>"
      ]
     },
     "execution_count": 8,
     "metadata": {},
     "output_type": "execute_result"
    }
   ],
   "source": [
    "black_box.to_gate()"
   ]
  },
  {
   "cell_type": "code",
   "execution_count": 9,
   "metadata": {},
   "outputs": [
    {
     "data": {
      "text/html": [
       "<pre style=\"word-wrap: normal;white-space: pre;background: #fff0;line-height: 1.1;font-family: &quot;Courier New&quot;,Courier,monospace\">                  \n",
       "q_0: ──■────────■─\n",
       "     ┌─┴─┐      │ \n",
       "q_1: ┤ X ├──■───■─\n",
       "     └───┘┌─┴─┐   \n",
       "q_2: ─────┤ X ├───\n",
       "          └───┘   </pre>"
      ],
      "text/plain": [
       "                  \n",
       "q_0: ──■────────■─\n",
       "     ┌─┴─┐      │ \n",
       "q_1: ┤ X ├──■───■─\n",
       "     └───┘┌─┴─┐   \n",
       "q_2: ─────┤ X ├───\n",
       "          └───┘   "
      ]
     },
     "execution_count": 9,
     "metadata": {},
     "output_type": "execute_result"
    }
   ],
   "source": [
    "black_box.draw()"
   ]
  },
  {
   "cell_type": "code",
   "execution_count": 10,
   "metadata": {},
   "outputs": [],
   "source": [
    "c = ClassicalRegister(3)\n",
    "grover_algo = QuantumCircuit(3,2)"
   ]
  },
  {
   "cell_type": "code",
   "execution_count": 11,
   "metadata": {},
   "outputs": [
    {
     "data": {
      "text/html": [
       "<pre style=\"word-wrap: normal;white-space: pre;background: #fff0;line-height: 1.1;font-family: &quot;Courier New&quot;,Courier,monospace\">     \n",
       "q_0: \n",
       "     \n",
       "q_1: \n",
       "     \n",
       "q_2: \n",
       "     \n",
       "c: 2/\n",
       "     </pre>"
      ],
      "text/plain": [
       "     \n",
       "q_0: \n",
       "     \n",
       "q_1: \n",
       "     \n",
       "q_2: \n",
       "     \n",
       "c: 2/\n",
       "     "
      ]
     },
     "execution_count": 11,
     "metadata": {},
     "output_type": "execute_result"
    }
   ],
   "source": [
    "grover_algo.draw()"
   ]
  },
  {
   "cell_type": "code",
   "execution_count": 14,
   "metadata": {},
   "outputs": [
    {
     "data": {
      "text/html": [
       "<pre style=\"word-wrap: normal;white-space: pre;background: #fff0;line-height: 1.1;font-family: &quot;Courier New&quot;,Courier,monospace\">     ┌───┐\n",
       "q_0: ┤ H ├\n",
       "     ├───┤\n",
       "q_1: ┤ H ├\n",
       "     ├───┤\n",
       "q_2: ┤ H ├\n",
       "     └───┘\n",
       "c: 2/═════\n",
       "          </pre>"
      ],
      "text/plain": [
       "     ┌───┐\n",
       "q_0: ┤ H ├\n",
       "     ├───┤\n",
       "q_1: ┤ H ├\n",
       "     ├───┤\n",
       "q_2: ┤ H ├\n",
       "     └───┘\n",
       "c: 2/═════\n",
       "          "
      ]
     },
     "execution_count": 14,
     "metadata": {},
     "output_type": "execute_result"
    }
   ],
   "source": [
    "grover_algo.draw()"
   ]
  },
  {
   "cell_type": "code",
   "execution_count": 15,
   "metadata": {},
   "outputs": [
    {
     "data": {
      "text/plain": [
       "<qiskit.circuit.instructionset.InstructionSet at 0x23bc66fcbb0>"
      ]
     },
     "execution_count": 15,
     "metadata": {},
     "output_type": "execute_result"
    }
   ],
   "source": [
    "grover_algo.append(black_box,[0,1,2])"
   ]
  },
  {
   "cell_type": "code",
   "execution_count": 16,
   "metadata": {},
   "outputs": [
    {
     "data": {
      "text/html": [
       "<pre style=\"word-wrap: normal;white-space: pre;background: #fff0;line-height: 1.1;font-family: &quot;Courier New&quot;,Courier,monospace\">     ┌───┐┌────────────┐\n",
       "q_0: ┤ H ├┤0           ├\n",
       "     ├───┤│            │\n",
       "q_1: ┤ H ├┤1 Black Box ├\n",
       "     ├───┤│            │\n",
       "q_2: ┤ H ├┤2           ├\n",
       "     └───┘└────────────┘\n",
       "c: 2/═══════════════════\n",
       "                        </pre>"
      ],
      "text/plain": [
       "     ┌───┐┌────────────┐\n",
       "q_0: ┤ H ├┤0           ├\n",
       "     ├───┤│            │\n",
       "q_1: ┤ H ├┤1 Black Box ├\n",
       "     ├───┤│            │\n",
       "q_2: ┤ H ├┤2           ├\n",
       "     └───┘└────────────┘\n",
       "c: 2/═══════════════════\n",
       "                        "
      ]
     },
     "execution_count": 16,
     "metadata": {},
     "output_type": "execute_result"
    }
   ],
   "source": [
    "grover_algo.draw()"
   ]
  },
  {
   "cell_type": "code",
   "execution_count": 17,
   "metadata": {},
   "outputs": [
    {
     "data": {
      "text/plain": [
       "<qiskit.circuit.instructionset.InstructionSet at 0x23bc66fce80>"
      ]
     },
     "execution_count": 17,
     "metadata": {},
     "output_type": "execute_result"
    }
   ],
   "source": [
    "grover_algo.h([0,1])"
   ]
  },
  {
   "cell_type": "code",
   "execution_count": 18,
   "metadata": {},
   "outputs": [
    {
     "data": {
      "text/plain": [
       "<qiskit.circuit.instructionset.InstructionSet at 0x23bc66fc6d0>"
      ]
     },
     "execution_count": 18,
     "metadata": {},
     "output_type": "execute_result"
    }
   ],
   "source": [
    "grover_algo.x([0,1])"
   ]
  },
  {
   "cell_type": "code",
   "execution_count": 19,
   "metadata": {},
   "outputs": [
    {
     "data": {
      "text/plain": [
       "<qiskit.circuit.instructionset.InstructionSet at 0x23bc66fc940>"
      ]
     },
     "execution_count": 19,
     "metadata": {},
     "output_type": "execute_result"
    }
   ],
   "source": [
    "grover_algo.h(1)"
   ]
  },
  {
   "cell_type": "code",
   "execution_count": 20,
   "metadata": {},
   "outputs": [
    {
     "data": {
      "text/html": [
       "<pre style=\"word-wrap: normal;white-space: pre;background: #fff0;line-height: 1.1;font-family: &quot;Courier New&quot;,Courier,monospace\">     ┌───┐┌────────────┐┌───┐┌───┐     \n",
       "q_0: ┤ H ├┤0           ├┤ H ├┤ X ├─────\n",
       "     ├───┤│            │├───┤├───┤┌───┐\n",
       "q_1: ┤ H ├┤1 Black Box ├┤ H ├┤ X ├┤ H ├\n",
       "     ├───┤│            │└───┘└───┘└───┘\n",
       "q_2: ┤ H ├┤2           ├───────────────\n",
       "     └───┘└────────────┘               \n",
       "c: 2/══════════════════════════════════\n",
       "                                       </pre>"
      ],
      "text/plain": [
       "     ┌───┐┌────────────┐┌───┐┌───┐     \n",
       "q_0: ┤ H ├┤0           ├┤ H ├┤ X ├─────\n",
       "     ├───┤│            │├───┤├───┤┌───┐\n",
       "q_1: ┤ H ├┤1 Black Box ├┤ H ├┤ X ├┤ H ├\n",
       "     ├───┤│            │└───┘└───┘└───┘\n",
       "q_2: ┤ H ├┤2           ├───────────────\n",
       "     └───┘└────────────┘               \n",
       "c: 2/══════════════════════════════════\n",
       "                                       "
      ]
     },
     "execution_count": 20,
     "metadata": {},
     "output_type": "execute_result"
    }
   ],
   "source": [
    "grover_algo.draw()"
   ]
  },
  {
   "cell_type": "code",
   "execution_count": 21,
   "metadata": {},
   "outputs": [
    {
     "data": {
      "text/plain": [
       "<qiskit.circuit.instructionset.InstructionSet at 0x23bc6818670>"
      ]
     },
     "execution_count": 21,
     "metadata": {},
     "output_type": "execute_result"
    }
   ],
   "source": [
    "grover_algo.cx(0,1)"
   ]
  },
  {
   "cell_type": "code",
   "execution_count": 22,
   "metadata": {},
   "outputs": [
    {
     "data": {
      "text/plain": [
       "<qiskit.circuit.instructionset.InstructionSet at 0x23bc6818040>"
      ]
     },
     "execution_count": 22,
     "metadata": {},
     "output_type": "execute_result"
    }
   ],
   "source": [
    "grover_algo.h(1)"
   ]
  },
  {
   "cell_type": "code",
   "execution_count": 23,
   "metadata": {},
   "outputs": [
    {
     "data": {
      "text/html": [
       "<pre style=\"word-wrap: normal;white-space: pre;background: #fff0;line-height: 1.1;font-family: &quot;Courier New&quot;,Courier,monospace\">     ┌───┐┌────────────┐┌───┐┌───┐               \n",
       "q_0: ┤ H ├┤0           ├┤ H ├┤ X ├───────■───────\n",
       "     ├───┤│            │├───┤├───┤┌───┐┌─┴─┐┌───┐\n",
       "q_1: ┤ H ├┤1 Black Box ├┤ H ├┤ X ├┤ H ├┤ X ├┤ H ├\n",
       "     ├───┤│            │└───┘└───┘└───┘└───┘└───┘\n",
       "q_2: ┤ H ├┤2           ├─────────────────────────\n",
       "     └───┘└────────────┘                         \n",
       "c: 2/════════════════════════════════════════════\n",
       "                                                 </pre>"
      ],
      "text/plain": [
       "     ┌───┐┌────────────┐┌───┐┌───┐               \n",
       "q_0: ┤ H ├┤0           ├┤ H ├┤ X ├───────■───────\n",
       "     ├───┤│            │├───┤├───┤┌───┐┌─┴─┐┌───┐\n",
       "q_1: ┤ H ├┤1 Black Box ├┤ H ├┤ X ├┤ H ├┤ X ├┤ H ├\n",
       "     ├───┤│            │└───┘└───┘└───┘└───┘└───┘\n",
       "q_2: ┤ H ├┤2           ├─────────────────────────\n",
       "     └───┘└────────────┘                         \n",
       "c: 2/════════════════════════════════════════════\n",
       "                                                 "
      ]
     },
     "execution_count": 23,
     "metadata": {},
     "output_type": "execute_result"
    }
   ],
   "source": [
    "grover_algo.draw()"
   ]
  },
  {
   "cell_type": "code",
   "execution_count": 25,
   "metadata": {},
   "outputs": [
    {
     "data": {
      "text/plain": [
       "<qiskit.circuit.instructionset.InstructionSet at 0x23bc66fcfd0>"
      ]
     },
     "execution_count": 25,
     "metadata": {},
     "output_type": "execute_result"
    }
   ],
   "source": [
    "grover_algo.x([0,1])"
   ]
  },
  {
   "cell_type": "code",
   "execution_count": 28,
   "metadata": {},
   "outputs": [
    {
     "data": {
      "text/html": [
       "<pre style=\"word-wrap: normal;white-space: pre;background: #fff0;line-height: 1.1;font-family: &quot;Courier New&quot;,Courier,monospace\">     ┌───┐┌────────────┐┌───┐┌───┐          ┌───┐┌───┐     \n",
       "q_0: ┤ H ├┤0           ├┤ H ├┤ X ├───────■──┤ X ├┤ H ├─────\n",
       "     ├───┤│            │├───┤├───┤┌───┐┌─┴─┐├───┤├───┤┌───┐\n",
       "q_1: ┤ H ├┤1 Black Box ├┤ H ├┤ X ├┤ H ├┤ X ├┤ H ├┤ X ├┤ H ├\n",
       "     ├───┤│            │├───┤└───┘└───┘└───┘└───┘└───┘└───┘\n",
       "q_2: ┤ H ├┤2           ├┤ H ├──────────────────────────────\n",
       "     └───┘└────────────┘└───┘                              \n",
       "c: 2/══════════════════════════════════════════════════════\n",
       "                                                           </pre>"
      ],
      "text/plain": [
       "     ┌───┐┌────────────┐┌───┐┌───┐          ┌───┐┌───┐     \n",
       "q_0: ┤ H ├┤0           ├┤ H ├┤ X ├───────■──┤ X ├┤ H ├─────\n",
       "     ├───┤│            │├───┤├───┤┌───┐┌─┴─┐├───┤├───┤┌───┐\n",
       "q_1: ┤ H ├┤1 Black Box ├┤ H ├┤ X ├┤ H ├┤ X ├┤ H ├┤ X ├┤ H ├\n",
       "     ├───┤│            │├───┤└───┘└───┘└───┘└───┘└───┘└───┘\n",
       "q_2: ┤ H ├┤2           ├┤ H ├──────────────────────────────\n",
       "     └───┘└────────────┘└───┘                              \n",
       "c: 2/══════════════════════════════════════════════════════\n",
       "                                                           "
      ]
     },
     "execution_count": 28,
     "metadata": {},
     "output_type": "execute_result"
    }
   ],
   "source": [
    "grover_algo.draw()"
   ]
  },
  {
   "cell_type": "code",
   "execution_count": 30,
   "metadata": {},
   "outputs": [
    {
     "data": {
      "text/plain": [
       "<qiskit.circuit.instructionset.InstructionSet at 0x23bc6824760>"
      ]
     },
     "execution_count": 30,
     "metadata": {},
     "output_type": "execute_result"
    }
   ],
   "source": [
    "grover_algo.measure([0,1],[0,1])"
   ]
  },
  {
   "cell_type": "code",
   "execution_count": 31,
   "metadata": {},
   "outputs": [
    {
     "data": {
      "text/html": [
       "<pre style=\"word-wrap: normal;white-space: pre;background: #fff0;line-height: 1.1;font-family: &quot;Courier New&quot;,Courier,monospace\">     ┌───┐┌────────────┐┌───┐┌───┐          ┌───┐┌───┐     ┌─┐   \n",
       "q_0: ┤ H ├┤0           ├┤ H ├┤ X ├───────■──┤ X ├┤ H ├─────┤M├───\n",
       "     ├───┤│            │├───┤├───┤┌───┐┌─┴─┐├───┤├───┤┌───┐└╥┘┌─┐\n",
       "q_1: ┤ H ├┤1 Black Box ├┤ H ├┤ X ├┤ H ├┤ X ├┤ H ├┤ X ├┤ H ├─╫─┤M├\n",
       "     ├───┤│            │├───┤└───┘└───┘└───┘└───┘└───┘└───┘ ║ └╥┘\n",
       "q_2: ┤ H ├┤2           ├┤ H ├───────────────────────────────╫──╫─\n",
       "     └───┘└────────────┘└───┘                               ║  ║ \n",
       "c: 2/═══════════════════════════════════════════════════════╩══╩═\n",
       "                                                            0  1 </pre>"
      ],
      "text/plain": [
       "     ┌───┐┌────────────┐┌───┐┌───┐          ┌───┐┌───┐     ┌─┐   \n",
       "q_0: ┤ H ├┤0           ├┤ H ├┤ X ├───────■──┤ X ├┤ H ├─────┤M├───\n",
       "     ├───┤│            │├───┤├───┤┌───┐┌─┴─┐├───┤├───┤┌───┐└╥┘┌─┐\n",
       "q_1: ┤ H ├┤1 Black Box ├┤ H ├┤ X ├┤ H ├┤ X ├┤ H ├┤ X ├┤ H ├─╫─┤M├\n",
       "     ├───┤│            │├───┤└───┘└───┘└───┘└───┘└───┘└───┘ ║ └╥┘\n",
       "q_2: ┤ H ├┤2           ├┤ H ├───────────────────────────────╫──╫─\n",
       "     └───┘└────────────┘└───┘                               ║  ║ \n",
       "c: 2/═══════════════════════════════════════════════════════╩══╩═\n",
       "                                                            0  1 "
      ]
     },
     "execution_count": 31,
     "metadata": {},
     "output_type": "execute_result"
    }
   ],
   "source": [
    "grover_algo.draw()"
   ]
  },
  {
   "cell_type": "code",
   "execution_count": 32,
   "metadata": {},
   "outputs": [
    {
     "data": {
      "text/plain": [
       "<AccountProvider for IBMQ(hub='ibm-q', group='open', project='main')>"
      ]
     },
     "execution_count": 32,
     "metadata": {},
     "output_type": "execute_result"
    }
   ],
   "source": [
    "IBMQ.load_account()"
   ]
  },
  {
   "cell_type": "code",
   "execution_count": 33,
   "metadata": {},
   "outputs": [],
   "source": [
    "provider = IBMQ.get_provider('ibm-q')"
   ]
  },
  {
   "cell_type": "code",
   "execution_count": 34,
   "metadata": {},
   "outputs": [
    {
     "name": "stdout",
     "output_type": "stream",
     "text": [
      "Job Status: job has successfully run\n"
     ]
    }
   ],
   "source": [
    "qcomp = provider.get_backend('ibmq_santiago')\n",
    "job = execute(grover_algo, backend = qcomp)\n",
    "from qiskit.tools.monitor import job_monitor\n",
    "job_monitor(job)"
   ]
  },
  {
   "cell_type": "code",
   "execution_count": 35,
   "metadata": {},
   "outputs": [
    {
     "data": {
      "image/png": "[encoded data removed]",
      "text/plain": [
       "<Figure size 504x360 with 1 Axes>"
      ]
     },
     "execution_count": 35,
     "metadata": {},
     "output_type": "execute_result"
    }
   ],
   "source": [
    "result = job.result()\n",
    "result.get_counts()\n",
    "from qiskit.tools.visualization import plot_histogram\n",
    "plot_histogram(result.get_counts())"
   ]
  },
  {
   "cell_type": "code",
   "execution_count": 76,
   "metadata": {},
   "outputs": [
    {
     "data": {
      "image/png": "[encoded data removed]",
      "text/plain": [
       "<Figure size 504x360 with 1 Axes>"
      ]
     },
     "execution_count": 76,
     "metadata": {},
     "output_type": "execute_result"
    }
   ],
   "source": [
    "simulator = Aer.get_backend('qasm_simulator')\n",
    "result = execute(grover_algo, backend = simulator, shots = 1024).result()\n",
    "counts = result.get_counts()\n",
    "from qiskit.tools.visualization import plot_histogram\n",
    "plot_histogram(counts)"
   ]
  },
  {
   "cell_type": "code",
   "execution_count": null,
   "metadata": {},
   "outputs": [],
   "source": []
  }
 ],
 "metadata": {
  "kernelspec": {
   "display_name": "Python 3",
   "language": "python",
   "name": "python3"
  },
  "language_info": {
   "codemirror_mode": {
    "name": "ipython",
    "version": 3
   },
   "file_extension": ".py",
   "mimetype": "text/x-python",
   "name": "python",
   "nbconvert_exporter": "python",
   "pygments_lexer": "ipython3",
   "version": "3.8.5"
  }
 },
 "nbformat": 4,
 "nbformat_minor": 4
}
