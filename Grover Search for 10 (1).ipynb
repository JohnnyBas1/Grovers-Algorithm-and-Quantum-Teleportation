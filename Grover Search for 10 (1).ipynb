{
 "cells": [
  {
   "cell_type": "code",
   "execution_count": 67,
   "metadata": {},
   "outputs": [],
   "source": [
    "from qiskit import *"
   ]
  },
  {
   "cell_type": "code",
   "execution_count": 68,
   "metadata": {},
   "outputs": [
    {
     "data": {
      "text/html": [
       "<pre style=\"word-wrap: normal;white-space: pre;background: #fff0;line-height: 1.1;font-family: &quot;Courier New&quot;,Courier,monospace\">     \n",
       "q_0: \n",
       "     \n",
       "q_1: \n",
       "     \n",
       "q_2: \n",
       "     </pre>"
      ],
      "text/plain": [
       "     \n",
       "q_0: \n",
       "     \n",
       "q_1: \n",
       "     \n",
       "q_2: \n",
       "     "
      ]
     },
     "execution_count": 68,
     "metadata": {},
     "output_type": "execute_result"
    }
   ],
   "source": [
    "black_box = QuantumCircuit(3,name = \"Black Box\")\n",
    "black_box.draw()"
   ]
  },
  {
   "cell_type": "code",
   "execution_count": 69,
   "metadata": {},
   "outputs": [
    {
     "data": {
      "text/plain": [
       "<qiskit.circuit.instructionset.InstructionSet at 0x2356a7ada30>"
      ]
     },
     "execution_count": 69,
     "metadata": {},
     "output_type": "execute_result"
    }
   ],
   "source": [
    "black_box.cx(1,2)"
   ]
  },
  {
   "cell_type": "code",
   "execution_count": 70,
   "metadata": {},
   "outputs": [
    {
     "data": {
      "text/html": [
       "<pre style=\"word-wrap: normal;white-space: pre;background: #fff0;line-height: 1.1;font-family: &quot;Courier New&quot;,Courier,monospace\">          \n",
       "q_0: ─────\n",
       "          \n",
       "q_1: ──■──\n",
       "     ┌─┴─┐\n",
       "q_2: ┤ X ├\n",
       "     └───┘</pre>"
      ],
      "text/plain": [
       "          \n",
       "q_0: ─────\n",
       "          \n",
       "q_1: ──■──\n",
       "     ┌─┴─┐\n",
       "q_2: ┤ X ├\n",
       "     └───┘"
      ]
     },
     "execution_count": 70,
     "metadata": {},
     "output_type": "execute_result"
    }
   ],
   "source": [
    "black_box.draw()"
   ]
  },
  {
   "cell_type": "code",
   "execution_count": 71,
   "metadata": {},
   "outputs": [
    {
     "data": {
      "text/plain": [
       "<qiskit.circuit.instructionset.InstructionSet at 0x2356a797490>"
      ]
     },
     "execution_count": 71,
     "metadata": {},
     "output_type": "execute_result"
    }
   ],
   "source": [
    "black_box.cz(0,1)"
   ]
  },
  {
   "cell_type": "code",
   "execution_count": 72,
   "metadata": {},
   "outputs": [
    {
     "data": {
      "text/html": [
       "<pre style=\"word-wrap: normal;white-space: pre;background: #fff0;line-height: 1.1;font-family: &quot;Courier New&quot;,Courier,monospace\">             \n",
       "q_0: ──────■─\n",
       "           │ \n",
       "q_1: ──■───■─\n",
       "     ┌─┴─┐   \n",
       "q_2: ┤ X ├───\n",
       "     └───┘   </pre>"
      ],
      "text/plain": [
       "             \n",
       "q_0: ──────■─\n",
       "           │ \n",
       "q_1: ──■───■─\n",
       "     ┌─┴─┐   \n",
       "q_2: ┤ X ├───\n",
       "     └───┘   "
      ]
     },
     "execution_count": 72,
     "metadata": {},
     "output_type": "execute_result"
    }
   ],
   "source": [
    "black_box.draw()"
   ]
  },
  {
   "cell_type": "code",
   "execution_count": 73,
   "metadata": {},
   "outputs": [
    {
     "data": {
      "text/plain": [
       "<qiskit.circuit.gate.Gate at 0x2356a797550>"
      ]
     },
     "execution_count": 73,
     "metadata": {},
     "output_type": "execute_result"
    }
   ],
   "source": [
    "black_box.to_gate()"
   ]
  },
  {
   "cell_type": "code",
   "execution_count": 74,
   "metadata": {},
   "outputs": [
    {
     "data": {
      "text/html": [
       "<pre style=\"word-wrap: normal;white-space: pre;background: #fff0;line-height: 1.1;font-family: &quot;Courier New&quot;,Courier,monospace\">             \n",
       "q_0: ──────■─\n",
       "           │ \n",
       "q_1: ──■───■─\n",
       "     ┌─┴─┐   \n",
       "q_2: ┤ X ├───\n",
       "     └───┘   </pre>"
      ],
      "text/plain": [
       "             \n",
       "q_0: ──────■─\n",
       "           │ \n",
       "q_1: ──■───■─\n",
       "     ┌─┴─┐   \n",
       "q_2: ┤ X ├───\n",
       "     └───┘   "
      ]
     },
     "execution_count": 74,
     "metadata": {},
     "output_type": "execute_result"
    }
   ],
   "source": [
    "black_box.draw()"
   ]
  },
  {
   "cell_type": "code",
   "execution_count": 75,
   "metadata": {},
   "outputs": [
    {
     "data": {
      "text/plain": [
       "<qiskit.circuit.instructionset.InstructionSet at 0x2356a797eb0>"
      ]
     },
     "execution_count": 75,
     "metadata": {},
     "output_type": "execute_result"
    }
   ],
   "source": [
    "c = ClassicalRegister(3)\n",
    "grover_algo = QuantumCircuit(3,2)\n",
    "grover_algo.x(2)\n",
    "grover_algo.h([0,1,2])"
   ]
  },
  {
   "cell_type": "code",
   "execution_count": 76,
   "metadata": {},
   "outputs": [
    {
     "data": {
      "text/html": [
       "<pre style=\"word-wrap: normal;white-space: pre;background: #fff0;line-height: 1.1;font-family: &quot;Courier New&quot;,Courier,monospace\">     ┌───┐     \n",
       "q_0: ┤ H ├─────\n",
       "     ├───┤     \n",
       "q_1: ┤ H ├─────\n",
       "     ├───┤┌───┐\n",
       "q_2: ┤ X ├┤ H ├\n",
       "     └───┘└───┘\n",
       "c: 2/══════════\n",
       "               </pre>"
      ],
      "text/plain": [
       "     ┌───┐     \n",
       "q_0: ┤ H ├─────\n",
       "     ├───┤     \n",
       "q_1: ┤ H ├─────\n",
       "     ├───┤┌───┐\n",
       "q_2: ┤ X ├┤ H ├\n",
       "     └───┘└───┘\n",
       "c: 2/══════════\n",
       "               "
      ]
     },
     "execution_count": 76,
     "metadata": {},
     "output_type": "execute_result"
    }
   ],
   "source": [
    "grover_algo.draw()"
   ]
  },
  {
   "cell_type": "code",
   "execution_count": 77,
   "metadata": {},
   "outputs": [
    {
     "data": {
      "text/html": [
       "<pre style=\"word-wrap: normal;white-space: pre;background: #fff0;line-height: 1.1;font-family: &quot;Courier New&quot;,Courier,monospace\">     ┌───┐     \n",
       "q_0: ┤ H ├─────\n",
       "     ├───┤     \n",
       "q_1: ┤ H ├─────\n",
       "     ├───┤┌───┐\n",
       "q_2: ┤ X ├┤ H ├\n",
       "     └───┘└───┘\n",
       "c: 2/══════════\n",
       "               </pre>"
      ],
      "text/plain": [
       "     ┌───┐     \n",
       "q_0: ┤ H ├─────\n",
       "     ├───┤     \n",
       "q_1: ┤ H ├─────\n",
       "     ├───┤┌───┐\n",
       "q_2: ┤ X ├┤ H ├\n",
       "     └───┘└───┘\n",
       "c: 2/══════════\n",
       "               "
      ]
     },
     "execution_count": 77,
     "metadata": {},
     "output_type": "execute_result"
    }
   ],
   "source": [
    "grover_algo.draw()"
   ]
  },
  {
   "cell_type": "code",
   "execution_count": 78,
   "metadata": {},
   "outputs": [
    {
     "data": {
      "text/plain": [
       "<qiskit.circuit.instructionset.InstructionSet at 0x2356a797850>"
      ]
     },
     "execution_count": 78,
     "metadata": {},
     "output_type": "execute_result"
    }
   ],
   "source": [
    "grover_algo.append(black_box,[0,1,2])"
   ]
  },
  {
   "cell_type": "code",
   "execution_count": 79,
   "metadata": {},
   "outputs": [
    {
     "data": {
      "text/html": [
       "<pre style=\"word-wrap: normal;white-space: pre;background: #fff0;line-height: 1.1;font-family: &quot;Courier New&quot;,Courier,monospace\">     ┌───┐     ┌────────────┐\n",
       "q_0: ┤ H ├─────┤0           ├\n",
       "     ├───┤     │            │\n",
       "q_1: ┤ H ├─────┤1 Black Box ├\n",
       "     ├───┤┌───┐│            │\n",
       "q_2: ┤ X ├┤ H ├┤2           ├\n",
       "     └───┘└───┘└────────────┘\n",
       "c: 2/════════════════════════\n",
       "                             </pre>"
      ],
      "text/plain": [
       "     ┌───┐     ┌────────────┐\n",
       "q_0: ┤ H ├─────┤0           ├\n",
       "     ├───┤     │            │\n",
       "q_1: ┤ H ├─────┤1 Black Box ├\n",
       "     ├───┤┌───┐│            │\n",
       "q_2: ┤ X ├┤ H ├┤2           ├\n",
       "     └───┘└───┘└────────────┘\n",
       "c: 2/════════════════════════\n",
       "                             "
      ]
     },
     "execution_count": 79,
     "metadata": {},
     "output_type": "execute_result"
    }
   ],
   "source": [
    "grover_algo.draw()"
   ]
  },
  {
   "cell_type": "code",
   "execution_count": 80,
   "metadata": {},
   "outputs": [
    {
     "data": {
      "text/plain": [
       "<qiskit.circuit.instructionset.InstructionSet at 0x2356a797880>"
      ]
     },
     "execution_count": 80,
     "metadata": {},
     "output_type": "execute_result"
    }
   ],
   "source": [
    "grover_algo.h([0,1])"
   ]
  },
  {
   "cell_type": "code",
   "execution_count": 81,
   "metadata": {},
   "outputs": [
    {
     "data": {
      "text/plain": [
       "<qiskit.circuit.instructionset.InstructionSet at 0x2356a7ad760>"
      ]
     },
     "execution_count": 81,
     "metadata": {},
     "output_type": "execute_result"
    }
   ],
   "source": [
    "grover_algo.x([0,1])"
   ]
  },
  {
   "cell_type": "code",
   "execution_count": 82,
   "metadata": {},
   "outputs": [
    {
     "data": {
      "text/plain": [
       "<qiskit.circuit.instructionset.InstructionSet at 0x2356a797a90>"
      ]
     },
     "execution_count": 82,
     "metadata": {},
     "output_type": "execute_result"
    }
   ],
   "source": [
    "grover_algo.h(1)"
   ]
  },
  {
   "cell_type": "code",
   "execution_count": 83,
   "metadata": {},
   "outputs": [
    {
     "data": {
      "text/html": [
       "<pre style=\"word-wrap: normal;white-space: pre;background: #fff0;line-height: 1.1;font-family: &quot;Courier New&quot;,Courier,monospace\">     ┌───┐     ┌────────────┐┌───┐┌───┐     \n",
       "q_0: ┤ H ├─────┤0           ├┤ H ├┤ X ├─────\n",
       "     ├───┤     │            │├───┤├───┤┌───┐\n",
       "q_1: ┤ H ├─────┤1 Black Box ├┤ H ├┤ X ├┤ H ├\n",
       "     ├───┤┌───┐│            │└───┘└───┘└───┘\n",
       "q_2: ┤ X ├┤ H ├┤2           ├───────────────\n",
       "     └───┘└───┘└────────────┘               \n",
       "c: 2/═══════════════════════════════════════\n",
       "                                            </pre>"
      ],
      "text/plain": [
       "     ┌───┐     ┌────────────┐┌───┐┌───┐     \n",
       "q_0: ┤ H ├─────┤0           ├┤ H ├┤ X ├─────\n",
       "     ├───┤     │            │├───┤├───┤┌───┐\n",
       "q_1: ┤ H ├─────┤1 Black Box ├┤ H ├┤ X ├┤ H ├\n",
       "     ├───┤┌───┐│            │└───┘└───┘└───┘\n",
       "q_2: ┤ X ├┤ H ├┤2           ├───────────────\n",
       "     └───┘└───┘└────────────┘               \n",
       "c: 2/═══════════════════════════════════════\n",
       "                                            "
      ]
     },
     "execution_count": 83,
     "metadata": {},
     "output_type": "execute_result"
    }
   ],
   "source": [
    "grover_algo.draw()"
   ]
  },
  {
   "cell_type": "code",
   "execution_count": 84,
   "metadata": {},
   "outputs": [
    {
     "data": {
      "text/plain": [
       "<qiskit.circuit.instructionset.InstructionSet at 0x2356a7ad700>"
      ]
     },
     "execution_count": 84,
     "metadata": {},
     "output_type": "execute_result"
    }
   ],
   "source": [
    "grover_algo.cx(0,1)"
   ]
  },
  {
   "cell_type": "code",
   "execution_count": 85,
   "metadata": {},
   "outputs": [
    {
     "data": {
      "text/html": [
       "<pre style=\"word-wrap: normal;white-space: pre;background: #fff0;line-height: 1.1;font-family: &quot;Courier New&quot;,Courier,monospace\">     ┌───┐     ┌────────────┐┌───┐┌───┐          \n",
       "q_0: ┤ H ├─────┤0           ├┤ H ├┤ X ├───────■──\n",
       "     ├───┤     │            │├───┤├───┤┌───┐┌─┴─┐\n",
       "q_1: ┤ H ├─────┤1 Black Box ├┤ H ├┤ X ├┤ H ├┤ X ├\n",
       "     ├───┤┌───┐│            │└───┘└───┘└───┘└───┘\n",
       "q_2: ┤ X ├┤ H ├┤2           ├────────────────────\n",
       "     └───┘└───┘└────────────┘                    \n",
       "c: 2/════════════════════════════════════════════\n",
       "                                                 </pre>"
      ],
      "text/plain": [
       "     ┌───┐     ┌────────────┐┌───┐┌───┐          \n",
       "q_0: ┤ H ├─────┤0           ├┤ H ├┤ X ├───────■──\n",
       "     ├───┤     │            │├───┤├───┤┌───┐┌─┴─┐\n",
       "q_1: ┤ H ├─────┤1 Black Box ├┤ H ├┤ X ├┤ H ├┤ X ├\n",
       "     ├───┤┌───┐│            │└───┘└───┘└───┘└───┘\n",
       "q_2: ┤ X ├┤ H ├┤2           ├────────────────────\n",
       "     └───┘└───┘└────────────┘                    \n",
       "c: 2/════════════════════════════════════════════\n",
       "                                                 "
      ]
     },
     "execution_count": 85,
     "metadata": {},
     "output_type": "execute_result"
    }
   ],
   "source": [
    "grover_algo.draw()"
   ]
  },
  {
   "cell_type": "code",
   "execution_count": 86,
   "metadata": {},
   "outputs": [
    {
     "data": {
      "text/plain": [
       "<qiskit.circuit.instructionset.InstructionSet at 0x2356a7977f0>"
      ]
     },
     "execution_count": 86,
     "metadata": {},
     "output_type": "execute_result"
    }
   ],
   "source": [
    "grover_algo.h(1)"
   ]
  },
  {
   "cell_type": "code",
   "execution_count": 87,
   "metadata": {},
   "outputs": [
    {
     "data": {
      "text/html": [
       "<pre style=\"word-wrap: normal;white-space: pre;background: #fff0;line-height: 1.1;font-family: &quot;Courier New&quot;,Courier,monospace\">     ┌───┐     ┌────────────┐┌───┐┌───┐               \n",
       "q_0: ┤ H ├─────┤0           ├┤ H ├┤ X ├───────■───────\n",
       "     ├───┤     │            │├───┤├───┤┌───┐┌─┴─┐┌───┐\n",
       "q_1: ┤ H ├─────┤1 Black Box ├┤ H ├┤ X ├┤ H ├┤ X ├┤ H ├\n",
       "     ├───┤┌───┐│            │└───┘└───┘└───┘└───┘└───┘\n",
       "q_2: ┤ X ├┤ H ├┤2           ├─────────────────────────\n",
       "     └───┘└───┘└────────────┘                         \n",
       "c: 2/═════════════════════════════════════════════════\n",
       "                                                      </pre>"
      ],
      "text/plain": [
       "     ┌───┐     ┌────────────┐┌───┐┌───┐               \n",
       "q_0: ┤ H ├─────┤0           ├┤ H ├┤ X ├───────■───────\n",
       "     ├───┤     │            │├───┤├───┤┌───┐┌─┴─┐┌───┐\n",
       "q_1: ┤ H ├─────┤1 Black Box ├┤ H ├┤ X ├┤ H ├┤ X ├┤ H ├\n",
       "     ├───┤┌───┐│            │└───┘└───┘└───┘└───┘└───┘\n",
       "q_2: ┤ X ├┤ H ├┤2           ├─────────────────────────\n",
       "     └───┘└───┘└────────────┘                         \n",
       "c: 2/═════════════════════════════════════════════════\n",
       "                                                      "
      ]
     },
     "execution_count": 87,
     "metadata": {},
     "output_type": "execute_result"
    }
   ],
   "source": [
    "grover_algo.draw()"
   ]
  },
  {
   "cell_type": "code",
   "execution_count": 88,
   "metadata": {},
   "outputs": [
    {
     "data": {
      "text/plain": [
       "<qiskit.circuit.instructionset.InstructionSet at 0x2356a7cdd60>"
      ]
     },
     "execution_count": 88,
     "metadata": {},
     "output_type": "execute_result"
    }
   ],
   "source": [
    "grover_algo.x([0,1])\n",
    "grover_algo.h([0,1])\n",
    "grover_algo.measure([0,1],[0,1])"
   ]
  },
  {
   "cell_type": "code",
   "execution_count": 89,
   "metadata": {},
   "outputs": [
    {
     "data": {
      "text/html": [
       "<pre style=\"word-wrap: normal;white-space: pre;background: #fff0;line-height: 1.1;font-family: &quot;Courier New&quot;,Courier,monospace\">     ┌───┐     ┌────────────┐┌───┐┌───┐          ┌───┐┌───┐     ┌─┐   \n",
       "q_0: ┤ H ├─────┤0           ├┤ H ├┤ X ├───────■──┤ X ├┤ H ├─────┤M├───\n",
       "     ├───┤     │            │├───┤├───┤┌───┐┌─┴─┐├───┤├───┤┌───┐└╥┘┌─┐\n",
       "q_1: ┤ H ├─────┤1 Black Box ├┤ H ├┤ X ├┤ H ├┤ X ├┤ H ├┤ X ├┤ H ├─╫─┤M├\n",
       "     ├───┤┌───┐│            │└───┘└───┘└───┘└───┘└───┘└───┘└───┘ ║ └╥┘\n",
       "q_2: ┤ X ├┤ H ├┤2           ├────────────────────────────────────╫──╫─\n",
       "     └───┘└───┘└────────────┘                                    ║  ║ \n",
       "c: 2/════════════════════════════════════════════════════════════╩══╩═\n",
       "                                                                 0  1 </pre>"
      ],
      "text/plain": [
       "     ┌───┐     ┌────────────┐┌───┐┌───┐          ┌───┐┌───┐     ┌─┐   \n",
       "q_0: ┤ H ├─────┤0           ├┤ H ├┤ X ├───────■──┤ X ├┤ H ├─────┤M├───\n",
       "     ├───┤     │            │├───┤├───┤┌───┐┌─┴─┐├───┤├───┤┌───┐└╥┘┌─┐\n",
       "q_1: ┤ H ├─────┤1 Black Box ├┤ H ├┤ X ├┤ H ├┤ X ├┤ H ├┤ X ├┤ H ├─╫─┤M├\n",
       "     ├───┤┌───┐│            │└───┘└───┘└───┘└───┘└───┘└───┘└───┘ ║ └╥┘\n",
       "q_2: ┤ X ├┤ H ├┤2           ├────────────────────────────────────╫──╫─\n",
       "     └───┘└───┘└────────────┘                                    ║  ║ \n",
       "c: 2/════════════════════════════════════════════════════════════╩══╩═\n",
       "                                                                 0  1 "
      ]
     },
     "execution_count": 89,
     "metadata": {},
     "output_type": "execute_result"
    }
   ],
   "source": [
    "grover_algo.draw()"
   ]
  },
  {
   "cell_type": "code",
   "execution_count": 90,
   "metadata": {},
   "outputs": [
    {
     "name": "stderr",
     "output_type": "stream",
     "text": [
      "ibmqfactory.load_account:WARNING:2021-05-19 00:45:40,257: Credentials are already in use. The existing account in the session will be replaced.\n"
     ]
    },
    {
     "data": {
      "text/plain": [
       "<AccountProvider for IBMQ(hub='ibm-q', group='open', project='main')>"
      ]
     },
     "execution_count": 90,
     "metadata": {},
     "output_type": "execute_result"
    }
   ],
   "source": [
    "IBMQ.load_account()"
   ]
  },
  {
   "cell_type": "code",
   "execution_count": 91,
   "metadata": {},
   "outputs": [],
   "source": [
    "provider = IBMQ.get_provider('ibm-q')"
   ]
  },
  {
   "cell_type": "code",
   "execution_count": 92,
   "metadata": {},
   "outputs": [
    {
     "name": "stdout",
     "output_type": "stream",
     "text": [
      "Job Status: job has successfully run\n"
     ]
    }
   ],
   "source": [
    "qcomp = provider.get_backend('ibmq_santiago')\n",
    "job = execute(grover_algo, backend = qcomp)\n",
    "from qiskit.tools.monitor import job_monitor\n",
    "job_monitor(job)"
   ]
  },
  {
   "cell_type": "code",
   "execution_count": 93,
   "metadata": {},
   "outputs": [
    {
     "data": {
      "image/png": "[encoded data removed]",
      "text/plain": [
       "<Figure size 504x360 with 1 Axes>"
      ]
     },
     "execution_count": 93,
     "metadata": {},
     "output_type": "execute_result"
    }
   ],
   "source": [
    "result = job.result()\n",
    "result.get_counts()\n",
    "from qiskit.tools.visualization import plot_histogram\n",
    "plot_histogram(result.get_counts())"
   ]
  },
  {
   "cell_type": "code",
   "execution_count": 30,
   "metadata": {},
   "outputs": [
    {
     "data": {
      "text/html": [
       "<pre style=\"word-wrap: normal;white-space: pre;background: #fff0;line-height: 1.1;font-family: &quot;Courier New&quot;,Courier,monospace\">                  \n",
       "q_0: ──■────────■─\n",
       "     ┌─┴─┐      │ \n",
       "q_1: ┤ X ├──■───■─\n",
       "     └───┘┌─┴─┐   \n",
       "q_2: ─────┤ X ├───\n",
       "          └───┘   </pre>"
      ],
      "text/plain": [
       "                  \n",
       "q_0: ──■────────■─\n",
       "     ┌─┴─┐      │ \n",
       "q_1: ┤ X ├──■───■─\n",
       "     └───┘┌─┴─┐   \n",
       "q_2: ─────┤ X ├───\n",
       "          └───┘   "
      ]
     },
     "execution_count": 30,
     "metadata": {},
     "output_type": "execute_result"
    }
   ],
   "source": [
    "black_box.draw()"
   ]
  },
  {
   "cell_type": "code",
   "execution_count": 31,
   "metadata": {
    "scrolled": true
   },
   "outputs": [
    {
     "data": {
      "text/plain": [
       "<qiskit.circuit.instructionset.InstructionSet at 0x2356a5c1be0>"
      ]
     },
     "execution_count": 31,
     "metadata": {},
     "output_type": "execute_result"
    }
   ],
   "source": [
    "test = QuantumCircuit(3,3)\n",
    "test.x(2)"
   ]
  },
  {
   "cell_type": "code",
   "execution_count": 32,
   "metadata": {},
   "outputs": [
    {
     "data": {
      "text/plain": [
       "<qiskit.circuit.instructionset.InstructionSet at 0x2356a556be0>"
      ]
     },
     "execution_count": 32,
     "metadata": {},
     "output_type": "execute_result"
    }
   ],
   "source": [
    "test.h([0,1,2])"
   ]
  },
  {
   "cell_type": "code",
   "execution_count": 33,
   "metadata": {},
   "outputs": [
    {
     "data": {
      "text/plain": [
       "<qiskit.circuit.instructionset.InstructionSet at 0x2356a5d24f0>"
      ]
     },
     "execution_count": 33,
     "metadata": {},
     "output_type": "execute_result"
    }
   ],
   "source": [
    "test.append(black_box,[0,1,2])"
   ]
  },
  {
   "cell_type": "code",
   "execution_count": 34,
   "metadata": {},
   "outputs": [
    {
     "data": {
      "text/html": [
       "<pre style=\"word-wrap: normal;white-space: pre;background: #fff0;line-height: 1.1;font-family: &quot;Courier New&quot;,Courier,monospace\">     ┌───┐     ┌────────────┐\n",
       "q_0: ┤ H ├─────┤0           ├\n",
       "     ├───┤     │            │\n",
       "q_1: ┤ H ├─────┤1 Black Box ├\n",
       "     ├───┤┌───┐│            │\n",
       "q_2: ┤ X ├┤ H ├┤2           ├\n",
       "     └───┘└───┘└────────────┘\n",
       "c: 3/════════════════════════\n",
       "                             </pre>"
      ],
      "text/plain": [
       "     ┌───┐     ┌────────────┐\n",
       "q_0: ┤ H ├─────┤0           ├\n",
       "     ├───┤     │            │\n",
       "q_1: ┤ H ├─────┤1 Black Box ├\n",
       "     ├───┤┌───┐│            │\n",
       "q_2: ┤ X ├┤ H ├┤2           ├\n",
       "     └───┘└───┘└────────────┘\n",
       "c: 3/════════════════════════\n",
       "                             "
      ]
     },
     "execution_count": 34,
     "metadata": {},
     "output_type": "execute_result"
    }
   ],
   "source": [
    "test.draw()"
   ]
  },
  {
   "cell_type": "code",
   "execution_count": 35,
   "metadata": {},
   "outputs": [
    {
     "data": {
      "text/html": [
       "<pre style=\"word-wrap: normal;white-space: pre;background: #fff0;line-height: 1.1;font-family: &quot;Courier New&quot;,Courier,monospace\">     ┌───┐     ┌────────────┐\n",
       "q_0: ┤ H ├─────┤0           ├\n",
       "     ├───┤     │            │\n",
       "q_1: ┤ H ├─────┤1 Black Box ├\n",
       "     ├───┤┌───┐│            │\n",
       "q_2: ┤ X ├┤ H ├┤2           ├\n",
       "     └───┘└───┘└────────────┘\n",
       "c: 3/════════════════════════\n",
       "                             </pre>"
      ],
      "text/plain": [
       "     ┌───┐     ┌────────────┐\n",
       "q_0: ┤ H ├─────┤0           ├\n",
       "     ├───┤     │            │\n",
       "q_1: ┤ H ├─────┤1 Black Box ├\n",
       "     ├───┤┌───┐│            │\n",
       "q_2: ┤ X ├┤ H ├┤2           ├\n",
       "     └───┘└───┘└────────────┘\n",
       "c: 3/════════════════════════\n",
       "                             "
      ]
     },
     "execution_count": 35,
     "metadata": {},
     "output_type": "execute_result"
    }
   ],
   "source": [
    "test.draw()"
   ]
  },
  {
   "cell_type": "code",
   "execution_count": 94,
   "metadata": {},
   "outputs": [
    {
     "data": {
      "image/png": "[encoded data removed]",
      "text/plain": [
       "<Figure size 504x360 with 1 Axes>"
      ]
     },
     "execution_count": 94,
     "metadata": {},
     "output_type": "execute_result"
    }
   ],
   "source": [
    "simulator = Aer.get_backend('qasm_simulator')\n",
    "result = execute(grover_algo, backend = simulator, shots = 1024).result()\n",
    "counts = result.get_counts()\n",
    "from qiskit.tools.visualization import plot_histogram\n",
    "plot_histogram(counts)"
   ]
  },
  {
   "cell_type": "code",
   "execution_count": null,
   "metadata": {},
   "outputs": [],
   "source": []
  }
 ],
 "metadata": {
  "kernelspec": {
   "display_name": "Python 3",
   "language": "python",
   "name": "python3"
  },
  "language_info": {
   "codemirror_mode": {
    "name": "ipython",
    "version": 3
   },
   "file_extension": ".py",
   "mimetype": "text/x-python",
   "name": "python",
   "nbconvert_exporter": "python",
   "pygments_lexer": "ipython3",
   "version": "3.8.5"
  }
 },
 "nbformat": 4,
 "nbformat_minor": 4
}
